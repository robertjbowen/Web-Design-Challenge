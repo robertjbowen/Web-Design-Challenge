{
 "cells": [
  {
   "cell_type": "code",
   "execution_count": 2,
   "metadata": {},
   "outputs": [],
   "source": [
    "import pandas as pd "
   ]
  },
  {
   "cell_type": "code",
   "execution_count": 8,
   "metadata": {},
   "outputs": [],
   "source": [
    "# to read csv file named \"samplee\" \n",
    "weather_data = pd.read_csv(\"Resources/cities.csv\") \n",
    "city_data = pd.DataFrame(weather_data,columns=['City','Country','Date','Lat','Lng','Max Temp','Humidity','Cloudiness','Wind Speed'])\n",
    "city_data\n",
    "# to save as html file \n",
    "# named as \"Table\" \n",
    "city_data.to_html(\"WeatherData.html\") \n",
    "  \n",
    "# assign it to a  \n",
    "# variable (string) \n",
    "html_file = city_data.to_html()\n"
   ]
  },
  {
   "cell_type": "code",
   "execution_count": null,
   "metadata": {},
   "outputs": [],
   "source": []
  }
 ],
 "metadata": {
  "kernelspec": {
   "display_name": "Python 3",
   "language": "python",
   "name": "python3"
  },
  "language_info": {
   "codemirror_mode": {
    "name": "ipython",
    "version": 3
   },
   "file_extension": ".py",
   "mimetype": "text/x-python",
   "name": "python",
   "nbconvert_exporter": "python",
   "pygments_lexer": "ipython3",
   "version": "3.8.3"
  }
 },
 "nbformat": 4,
 "nbformat_minor": 4
}
